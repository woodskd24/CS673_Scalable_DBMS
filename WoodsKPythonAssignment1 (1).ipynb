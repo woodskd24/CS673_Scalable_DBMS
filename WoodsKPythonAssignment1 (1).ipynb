{
  "nbformat": 4,
  "nbformat_minor": 0,
  "metadata": {
    "anaconda-cloud": {},
    "kernelspec": {
      "display_name": "Python 3",
      "language": "python",
      "name": "python3"
    },
    "language_info": {
      "codemirror_mode": {
        "name": "ipython",
        "version": 3
      },
      "file_extension": ".py",
      "mimetype": "text/x-python",
      "name": "python",
      "nbconvert_exporter": "python",
      "pygments_lexer": "ipython3",
      "version": "3.6.6"
    },
    "colab": {
      "provenance": []
    }
  },
  "cells": [
    {
      "cell_type": "markdown",
      "metadata": {
        "id": "view-in-github",
        "pycharm": {
          "name": "#%% md\n"
        }
      },
      "source": [
        "<a href=\"https://colab.research.google.com/github/woodskd24/MSDataScience/blob/main/WoodsKPythonAssignment1.ipynb\" target=\"_parent\"><img src=\"https://colab.research.google.com/assets/colab-badge.svg\" alt=\"Open In Colab\"/></a>"
      ]
    },
    {
      "cell_type": "markdown",
      "metadata": {
        "collapsed": true,
        "id": "S0hfOJqUcBY1",
        "pycharm": {
          "name": "#%% md\n"
        }
      },
      "source": [
        "##Assignment - 1\n",
        "\n",
        "**Answer the following questions, after completing answering please download the .ipynb or .py file and submit the file.**\n",
        "* Name : Kelsey Woods\n",
        "* Session : Summer 1\n",
        "* CRN : 40440\n",
        "\n"
      ]
    },
    {
      "cell_type": "markdown",
      "metadata": {
        "collapsed": true,
        "id": "MABk3xshcBY2",
        "pycharm": {
          "name": "#%% md\n"
        }
      },
      "source": [
        "###**Q1** : \n",
        "Write a brief description of all the following Object Types. To write the answers in below cell by double clicking on it.\n",
        "\n",
        "**Points**: **5**\n"
      ]
    },
    {
      "cell_type": "markdown",
      "metadata": {
        "id": "aL0Du7xdcBY3",
        "pycharm": {
          "name": "#%% md\n"
        }
      },
      "source": [
        "Numbers ( Integers and Float): Numeric values. Both can be positive or negative. Floats can have decimal places or be exponential (e). Example -2.5, 2e2, 2.0. Examples of integers (whole numbers) include 2 and -6.\n",
        "\n",
        "Strings: String of text incased in '' or \"\". Examples include \"Hamburger\" or \"I like mayo\".\n",
        "\n",
        "Lists: A set of objects with an order. An example is [\"You\", 30.8, 6]\n",
        "\n",
        "Tuples: A set of objects with an order but they are immutable (\"You\", 30.8, 6)\n",
        "\n",
        "Dictionaries: Key value pairs that do not have an order {\"Student\":\"Kelsey\", \"Fruit\":\"Orange\"}.\n"
      ]
    },
    {
      "cell_type": "markdown",
      "metadata": {
        "id": "MBFc54NpcBY5",
        "pycharm": {
          "name": "#%% md\n"
        }
      },
      "source": [
        "###**Q2** : \n",
        "The Table below holds the data that contains statistics about the programming languages used for issues on GitHub. The data is for 2021.\n",
        "\n",
        "**Points :5**\n",
        "\n",
        "![A1.PNG](data:image/png;base64,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)\n",
        "\n"
      ]
    },
    {
      "cell_type": "markdown",
      "metadata": {
        "id": "gYTUJwWUcBY8",
        "pycharm": {
          "name": "#%% md\n"
        }
      },
      "source": [
        "Answer the following questions based on above table"
      ]
    },
    {
      "cell_type": "code",
      "metadata": {
        "collapsed": true,
        "id": "L4H_eoNrcBY8",
        "colab": {
          "base_uri": "https://localhost:8080/"
        },
        "outputId": "213fb9ae-4ecb-4878-99ab-07a88545192f",
        "pycharm": {
          "name": "#%%\n"
        }
      },
      "source": [
        "#2.1 : Using print function print the total number the issues. (add/sum the values using '+' arithmetic operator)\n",
        "Fortran = 1151\n",
        "Java = 228703\n",
        "Python = 328017\n",
        "R = 5733\n",
        "Scala = 13065\n",
        "C = 90268\n",
        "Csharp = 102178\n",
        "Cplusplus = 168453\n",
        "\n",
        "Lang = Fortran + Java + Python + R + Scala + C + Csharp + Cplusplus\n",
        "print(Lang)"
      ],
      "execution_count": null,
      "outputs": [
        {
          "output_type": "stream",
          "name": "stdout",
          "text": [
            "937568\n"
          ]
        }
      ]
    },
    {
      "cell_type": "code",
      "source": [
        "#2.2 : Using print function print the difference between the Python and Java issues.(using '-' arithmetic operator)\n",
        "\n",
        "DifPyJa = Python - Java\n",
        "print(DifPyJa)"
      ],
      "metadata": {
        "id": "h7CH1u_gvi-L",
        "colab": {
          "base_uri": "https://localhost:8080/"
        },
        "outputId": "b7bf6e08-f0b0-4d53-b597-ac7185519bcb",
        "pycharm": {
          "name": "#%%\n"
        }
      },
      "execution_count": null,
      "outputs": [
        {
          "output_type": "stream",
          "name": "stdout",
          "text": [
            "99314\n"
          ]
        }
      ]
    },
    {
      "cell_type": "code",
      "source": [
        "#2.3 : Create a variable called ProLanguage and store the value 'Python' and using \".format()\" function print the language name and total number of issues.\n",
        "ProLanguage = 'Python'\n",
        "print(\"The language is {} and there are {} issues\".format(ProLanguage, Python))"
      ],
      "metadata": {
        "id": "3CjoTpY_vlHs",
        "colab": {
          "base_uri": "https://localhost:8080/"
        },
        "outputId": "4e9e070c-a6a1-4939-8cfe-dd7f70347386",
        "pycharm": {
          "name": "#%%\n"
        }
      },
      "execution_count": null,
      "outputs": [
        {
          "output_type": "stream",
          "name": "stdout",
          "text": [
            "The language is Python and there are 328017 issues\n"
          ]
        }
      ]
    },
    {
      "cell_type": "code",
      "source": [
        "#2.4 From the table above print the average monthly issues for 'Scala'.\n",
        "\n",
        "S = Scala/12\n",
        "S"
      ],
      "metadata": {
        "id": "36OLbN0Cvo7O",
        "colab": {
          "base_uri": "https://localhost:8080/"
        },
        "outputId": "90602a5b-2aa6-4e00-cdcd-c0371663116d",
        "pycharm": {
          "name": "#%%\n"
        }
      },
      "execution_count": null,
      "outputs": [
        {
          "output_type": "execute_result",
          "data": {
            "text/plain": [
              "1088.75"
            ]
          },
          "metadata": {},
          "execution_count": 18
        }
      ]
    },
    {
      "cell_type": "code",
      "source": [
        "#2.5\n",
        "# Performs the following arithmetical operations and displays the results using '.format()' method with appropriate description.\n",
        "# 16×10\n",
        "# 45÷5\n",
        "# 5 power 3\n",
        "\n",
        "Multiply = 16*10\n",
        "Divide = 45/5\n",
        "Power = 5**3\n",
        "\n",
        "print(\"When you multiply 16 by 10 you get {}. When you divide 45 by 5 you get {}, and when want to find 5 to the power of 3 you get {}.\".format(Multiply, Divide, Power))\n",
        "\n",
        "\n"
      ],
      "metadata": {
        "id": "PTYCN4vauPi9",
        "colab": {
          "base_uri": "https://localhost:8080/"
        },
        "outputId": "f6ce074d-42f7-4dd3-f866-b26b70af40b8",
        "pycharm": {
          "name": "#%%\n"
        }
      },
      "execution_count": null,
      "outputs": [
        {
          "output_type": "stream",
          "name": "stdout",
          "text": [
            "When you multiply 16 by 10 you get 160. When you divide 45 by 5 you get 9.0, and when want to find 5 to the power of 3 you get 125.\n"
          ]
        }
      ]
    },
    {
      "cell_type": "markdown",
      "source": [
        "### **Q3**:Perform the following Type casting\n",
        "\n",
        "**Points: 5**"
      ],
      "metadata": {
        "id": "LxKlnN-6vyoD",
        "pycharm": {
          "name": "#%% md\n"
        }
      }
    },
    {
      "cell_type": "code",
      "source": [
        "#5.1 print the value of variable 'number' using print() with 'f' string' before and after type casting it to float.\n",
        "\n",
        "number = 5\n",
        "numbers = float(number)\n",
        "\n",
        "print(f'The integer is {number} but as a float it is {numbers}')"
      ],
      "metadata": {
        "id": "TUdT9BI-wG58",
        "colab": {
          "base_uri": "https://localhost:8080/"
        },
        "outputId": "c4d55cd9-f62c-49ff-b554-fea58384af0b",
        "pycharm": {
          "name": "#%%\n"
        }
      },
      "execution_count": null,
      "outputs": [
        {
          "output_type": "stream",
          "name": "stdout",
          "text": [
            "The integer is 5 but as a float it is 5.0\n"
          ]
        }
      ]
    },
    {
      "cell_type": "code",
      "source": [
        "#5.2 print the value of ' amount' by converting it to integer\n",
        "\n",
        "amount = \"6500\"\n",
        "integer = int(amount)\n",
        "print(integer)\n",
        "test = integer + 10\n",
        "print(test)"
      ],
      "metadata": {
        "id": "YXgSGgg6wjcC",
        "colab": {
          "base_uri": "https://localhost:8080/"
        },
        "outputId": "963a7e37-e0a1-403c-faf3-ababbc4b2488",
        "pycharm": {
          "name": "#%%\n"
        }
      },
      "execution_count": null,
      "outputs": [
        {
          "output_type": "stream",
          "name": "stdout",
          "text": [
            "6500\n",
            "6510\n"
          ]
        }
      ]
    },
    {
      "cell_type": "markdown",
      "metadata": {
        "id": "2E2kZcZzcBY_",
        "pycharm": {
          "name": "#%% md\n"
        }
      },
      "source": [
        "### **Q4**: \n",
        "Perform the following string slicing.\n",
        "\n",
        "**Points : 10**"
      ]
    },
    {
      "cell_type": "markdown",
      "metadata": {
        "id": "pqmtspH1cBZA",
        "pycharm": {
          "name": "#%% md\n"
        }
      },
      "source": [
        "4.1 Given the string 'Python Programming', with the help of index get 'm'. Enter your code in the cell below\n",
        "\n",
        "**Points: 1**"
      ]
    },
    {
      "cell_type": "code",
      "metadata": {
        "collapsed": true,
        "id": "F1DGfjF-cBZA",
        "colab": {
          "base_uri": "https://localhost:8080/",
          "height": 35
        },
        "outputId": "5df65429-77be-46d2-f209-554151e168c1",
        "pycharm": {
          "name": "#%%\n"
        }
      },
      "source": [
        "s = 'Python Programming'\n",
        "# Print out 'm' using indexing\n",
        "\n",
        "s[-4]"
      ],
      "execution_count": null,
      "outputs": [
        {
          "output_type": "execute_result",
          "data": {
            "text/plain": [
              "'m'"
            ],
            "application/vnd.google.colaboratory.intrinsic+json": {
              "type": "string"
            }
          },
          "metadata": {},
          "execution_count": 33
        }
      ]
    },
    {
      "cell_type": "markdown",
      "metadata": {
        "id": "110A93MvcBZB",
        "pycharm": {
          "name": "#%% md\n"
        }
      },
      "source": [
        "4.2 Reverse the string 'Python Programming' using slicing:\n",
        "\n",
        "**Points: 1**"
      ]
    },
    {
      "cell_type": "code",
      "metadata": {
        "collapsed": true,
        "id": "WP5iPKI8cBZB",
        "colab": {
          "base_uri": "https://localhost:8080/",
          "height": 35
        },
        "outputId": "ad11faa5-fd30-489a-925c-9564aa4f0654",
        "pycharm": {
          "name": "#%%\n"
        }
      },
      "source": [
        "s ='Python Programming'\n",
        "# Reverse the string using slicing\n",
        "s[::-1]\n"
      ],
      "execution_count": null,
      "outputs": [
        {
          "output_type": "execute_result",
          "data": {
            "text/plain": [
              "'gnimmargorP nohtyP'"
            ],
            "application/vnd.google.colaboratory.intrinsic+json": {
              "type": "string"
            }
          },
          "metadata": {},
          "execution_count": 37
        }
      ]
    },
    {
      "cell_type": "markdown",
      "metadata": {
        "id": "h9450vGScBZB",
        "pycharm": {
          "name": "#%% md\n"
        }
      },
      "source": [
        "4.3 Given the string \"Python Programming\", give two methods (positive and negative indexing) of producing the letter 'i' using indexing.\n",
        "\n",
        "**Points: 2**"
      ]
    },
    {
      "cell_type": "code",
      "metadata": {
        "collapsed": true,
        "id": "3IvgQWBOcBZC",
        "colab": {
          "base_uri": "https://localhost:8080/",
          "height": 35
        },
        "outputId": "746815ab-ac08-48ac-903c-735212aff492",
        "pycharm": {
          "name": "#%%\n"
        }
      },
      "source": [
        "s ='Python Programming'\n",
        "# Print out the 'i'\n",
        "\n",
        "# Method 1:\n",
        "s[-3]\n",
        "\n",
        "# Method 2:\n",
        "s[15]"
      ],
      "execution_count": null,
      "outputs": [
        {
          "output_type": "execute_result",
          "data": {
            "text/plain": [
              "'i'"
            ],
            "application/vnd.google.colaboratory.intrinsic+json": {
              "type": "string"
            }
          },
          "metadata": {},
          "execution_count": 42
        }
      ]
    },
    {
      "cell_type": "markdown",
      "source": [
        "4.4: Given the string \"New York City\", extract the sub-string \"York\"\n",
        "\n",
        "**Points :1**"
      ],
      "metadata": {
        "id": "1rHyXDwW0dux",
        "pycharm": {
          "name": "#%% md\n"
        }
      }
    },
    {
      "cell_type": "code",
      "source": [
        "NYC = \"New York City\"\n",
        "NYC[3:8]"
      ],
      "metadata": {
        "id": "P4BavXfdy5-G",
        "colab": {
          "base_uri": "https://localhost:8080/",
          "height": 35
        },
        "outputId": "e8679b6d-3384-4ea5-a5e3-a57538121953",
        "pycharm": {
          "name": "#%%\n"
        }
      },
      "execution_count": null,
      "outputs": [
        {
          "output_type": "execute_result",
          "data": {
            "text/plain": [
              "' York'"
            ],
            "application/vnd.google.colaboratory.intrinsic+json": {
              "type": "string"
            }
          },
          "metadata": {},
          "execution_count": 50
        }
      ]
    },
    {
      "cell_type": "markdown",
      "source": [
        "4.5 : Given the string \"New York City\", extract the string 'NwYr iy'\n",
        "\n",
        "**Points:2**"
      ],
      "metadata": {
        "id": "9CjPaFxj09er",
        "pycharm": {
          "name": "#%% md\n"
        }
      }
    },
    {
      "cell_type": "code",
      "source": [
        "NYC[::2]"
      ],
      "metadata": {
        "colab": {
          "base_uri": "https://localhost:8080/",
          "height": 35
        },
        "id": "Qfp8wM0208lc",
        "outputId": "7094293c-afa9-4493-df1f-fe51f489c128",
        "pycharm": {
          "name": "#%%\n"
        }
      },
      "execution_count": null,
      "outputs": [
        {
          "output_type": "execute_result",
          "data": {
            "text/plain": [
              "'NwYr iy'"
            ],
            "application/vnd.google.colaboratory.intrinsic+json": {
              "type": "string"
            }
          },
          "metadata": {},
          "execution_count": 56
        }
      ]
    },
    {
      "cell_type": "markdown",
      "source": [
        "4.6 : Given the string \"New York City\", extract the index of the letter 'Y'.\n",
        "example : The output is ***index of 'C' is 9***\n",
        "\n",
        "**Points:1**"
      ],
      "metadata": {
        "id": "8bKaicvc2LzT",
        "pycharm": {
          "name": "#%% md\n"
        }
      }
    },
    {
      "cell_type": "code",
      "source": [
        "cityname = \"New York City\"\n",
        "\n",
        "cityname.index('Y')"
      ],
      "metadata": {
        "colab": {
          "base_uri": "https://localhost:8080/"
        },
        "id": "e_mt54Jm2UvZ",
        "outputId": "d178e382-90cf-4671-8397-21d00fcb6b24",
        "pycharm": {
          "name": "#%%\n"
        }
      },
      "execution_count": null,
      "outputs": [
        {
          "output_type": "execute_result",
          "data": {
            "text/plain": [
              "4"
            ]
          },
          "metadata": {},
          "execution_count": 57
        }
      ]
    },
    {
      "cell_type": "markdown",
      "source": [
        "4.6 : find the length of the string \" Python is powerful... and fast;plays well with others; runs everywhere; is friendly & easy to learn; is Open.\"\n",
        "\n",
        "**Points : 2**"
      ],
      "metadata": {
        "id": "tbmS8-yG1nXn",
        "pycharm": {
          "name": "#%% md\n"
        }
      }
    },
    {
      "cell_type": "code",
      "source": [
        "Powerful = \" Python is powerful... and fast;plays well with others; runs everywhere; is friendly & easy to learn; is Open.\"\n",
        "len(Powerful)"
      ],
      "metadata": {
        "id": "uwTkNwCA1izw",
        "colab": {
          "base_uri": "https://localhost:8080/"
        },
        "outputId": "29a14a45-9f64-4d3b-f8dc-490685a45c54",
        "pycharm": {
          "name": "#%%\n"
        }
      },
      "execution_count": null,
      "outputs": [
        {
          "output_type": "execute_result",
          "data": {
            "text/plain": [
              "110"
            ]
          },
          "metadata": {},
          "execution_count": 63
        }
      ]
    },
    {
      "cell_type": "markdown",
      "metadata": {
        "id": "AI-9eMHpcBZD",
        "pycharm": {
          "name": "#%% md\n"
        }
      },
      "source": [
        "## Lists"
      ]
    },
    {
      "cell_type": "markdown",
      "source": [
        "**Q5**:\n",
        "\n",
        "\n",
        "**Points : 10**\n"
      ],
      "metadata": {
        "id": "2_lyTHqs4xzF",
        "pycharm": {
          "name": "#%% md\n"
        }
      }
    },
    {
      "cell_type": "markdown",
      "metadata": {
        "id": "_KiUBOztcBZD",
        "pycharm": {
          "name": "#%% md\n"
        }
      },
      "source": [
        "5.1 Create two lists from the table below.\n",
        "\n",
        "![A1.PNG](data:image/png;base64,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)"
      ]
    },
    {
      "cell_type": "code",
      "metadata": {
        "collapsed": true,
        "id": "LKs_RnaZcBZE",
        "pycharm": {
          "name": "#%%\n"
        }
      },
      "source": [
        "# Numeric List 1151,228703...\n",
        "ProgrammingN = [1151,228703,328017,5733,13065,90268,102178,168453]"
      ],
      "execution_count": null,
      "outputs": []
    },
    {
      "cell_type": "code",
      "metadata": {
        "collapsed": true,
        "id": "--1hFUExcBZE",
        "pycharm": {
          "name": "#%%\n"
        }
      },
      "source": [
        "# String List Fortran, Java, ....\n",
        "ProgrammingL = [\"Fortran\", \"Java\", \"Python\", \"R\", \"Scala\", \"C\", \"C#\", \"C++\"]"
      ],
      "execution_count": null,
      "outputs": []
    },
    {
      "cell_type": "markdown",
      "metadata": {
        "id": "i3GPSmiUcBZF",
        "pycharm": {
          "name": "#%% md\n"
        }
      },
      "source": [
        "5.2 Reassign 'R' in this above list with 'HTML' and print it."
      ]
    },
    {
      "cell_type": "code",
      "metadata": {
        "collapsed": true,
        "id": "nvLDLZNZcBZF",
        "colab": {
          "base_uri": "https://localhost:8080/"
        },
        "outputId": "c23c7b09-c2e7-496e-a5ed-549563f4c007",
        "pycharm": {
          "name": "#%%\n"
        }
      },
      "source": [
        "ProgrammingL[-5]=\"HTML\"\n",
        "print(ProgrammingL)"
      ],
      "execution_count": null,
      "outputs": [
        {
          "output_type": "stream",
          "name": "stdout",
          "text": [
            "['Fortran', 'Java', 'Python', 'HTML', 'Scala', 'C', 'C#', 'C++']\n"
          ]
        }
      ]
    },
    {
      "cell_type": "markdown",
      "metadata": {
        "id": "-buyM2D9cBZF",
        "pycharm": {
          "name": "#%% md\n"
        }
      },
      "source": [
        "5.3 Arrange the Numeric list in desending order."
      ]
    },
    {
      "cell_type": "code",
      "metadata": {
        "collapsed": true,
        "id": "6w_wMOBDcBZG",
        "pycharm": {
          "name": "#%%\n"
        }
      },
      "source": [
        "ProgrammingL.sort()\n",
        "ProgrammingL.reverse()"
      ],
      "execution_count": null,
      "outputs": []
    },
    {
      "cell_type": "markdown",
      "source": [
        "5.4 Insert 'CSS' at index 3 in String List "
      ],
      "metadata": {
        "id": "K19IxUZtQ27B",
        "pycharm": {
          "name": "#%% md\n"
        }
      }
    },
    {
      "cell_type": "code",
      "source": [
        "ProgrammingL.insert(3, 'CSS')\n",
        "print(ProgrammingL)"
      ],
      "metadata": {
        "id": "q1E4uEe-QxBf",
        "colab": {
          "base_uri": "https://localhost:8080/"
        },
        "outputId": "dda7089a-d4f2-4c66-a567-fb479b51f561",
        "pycharm": {
          "name": "#%%\n"
        }
      },
      "execution_count": null,
      "outputs": [
        {
          "output_type": "stream",
          "name": "stdout",
          "text": [
            "['Scala', 'Python', 'Java', 'CSS', 'HTML', 'Fortran', 'C++', 'C#', 'C']\n"
          ]
        }
      ]
    },
    {
      "cell_type": "markdown",
      "source": [
        "5.5 Find the index of the \"Scala\" from String list."
      ],
      "metadata": {
        "id": "Mo4hAWggRDZp",
        "pycharm": {
          "name": "#%% md\n"
        }
      }
    },
    {
      "cell_type": "code",
      "source": [
        "ProgrammingL.index(\"Scala\")"
      ],
      "metadata": {
        "id": "J6D_buyCRwNm",
        "colab": {
          "base_uri": "https://localhost:8080/"
        },
        "outputId": "785db58d-923c-4f20-8541-890311746013",
        "pycharm": {
          "name": "#%%\n"
        }
      },
      "execution_count": null,
      "outputs": [
        {
          "output_type": "execute_result",
          "data": {
            "text/plain": [
              "0"
            ]
          },
          "metadata": {},
          "execution_count": 45
        }
      ]
    },
    {
      "cell_type": "markdown",
      "metadata": {
        "id": "3RTt3IpLcBZG",
        "pycharm": {
          "name": "#%% md\n"
        }
      },
      "source": [
        "## Dictionaries"
      ]
    },
    {
      "cell_type": "markdown",
      "metadata": {
        "id": "KjgadBzncBZG",
        "pycharm": {
          "name": "#%% md\n"
        }
      },
      "source": [
        "**Q6:**\n",
        "\n",
        "\n",
        "**Points :10**\n",
        "\n",
        "Create a dictionary object from the table.\n",
        "\n",
        "![A1.PNG](data:image/png;base64,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)\n"
      ]
    },
    {
      "cell_type": "markdown",
      "source": [
        "6.1 Print the value of 'Python'"
      ],
      "metadata": {
        "id": "5FTjTy2OS6ev",
        "pycharm": {
          "name": "#%% md\n"
        }
      }
    },
    {
      "cell_type": "code",
      "metadata": {
        "collapsed": true,
        "id": "eGoKX-05cBZG",
        "colab": {
          "base_uri": "https://localhost:8080/"
        },
        "outputId": "1f8aa277-4f9d-48dc-e81e-ed8fe6ce86d4",
        "pycharm": {
          "name": "#%%\n"
        }
      },
      "source": [
        "Languagues1 ={'Fortran':1151,'Java':228703, 'Python':328017, 'R':5733, 'Scala':13065, 'C':90268, 'C#':102178, 'C++':168453}\n",
        "Languagues1['Python']"
      ],
      "execution_count": null,
      "outputs": [
        {
          "output_type": "execute_result",
          "data": {
            "text/plain": [
              "328017"
            ]
          },
          "metadata": {},
          "execution_count": 47
        }
      ]
    },
    {
      "cell_type": "markdown",
      "source": [
        "6.2 Using function print keys, values and items of the dictionary."
      ],
      "metadata": {
        "id": "5gNLX6_STTxJ",
        "pycharm": {
          "name": "#%% md\n"
        }
      }
    },
    {
      "cell_type": "code",
      "metadata": {
        "collapsed": true,
        "id": "U9K_FLBocBZH",
        "colab": {
          "base_uri": "https://localhost:8080/"
        },
        "outputId": "27465249-39ef-4e5f-f160-985f5223f4dd",
        "pycharm": {
          "name": "#%%\n"
        }
      },
      "source": [
        "Languagues1.keys()\n",
        "Languagues1.values()\n",
        "Languagues1.items()"
      ],
      "execution_count": null,
      "outputs": [
        {
          "output_type": "execute_result",
          "data": {
            "text/plain": [
              "dict_items([('Fortran', 1151), ('Java', 228703), ('Python', 328017), ('R', 5733), ('Scala', 13065), ('C', 90268), ('C#', 102178), ('C++', 168453)])"
            ]
          },
          "metadata": {},
          "execution_count": 50
        }
      ]
    },
    {
      "cell_type": "markdown",
      "source": [
        "6.3 #Grab Python"
      ],
      "metadata": {
        "id": "OEi4DqxnVt6n",
        "pycharm": {
          "name": "#%% md\n"
        }
      }
    },
    {
      "cell_type": "code",
      "metadata": {
        "collapsed": true,
        "id": "KoUlByj7cBZH",
        "colab": {
          "base_uri": "https://localhost:8080/"
        },
        "outputId": "507330e9-1bbf-4194-9027-28db13ed49e0",
        "pycharm": {
          "name": "#%%\n"
        }
      },
      "source": [
        "d = {'k1':[{'nest_key':['this is CS632',['Python']]}]}\n",
        "print(d['k1'][0]['nest_key'][1][0])"
      ],
      "execution_count": null,
      "outputs": [
        {
          "output_type": "stream",
          "name": "stdout",
          "text": [
            "Python\n"
          ]
        }
      ]
    },
    {
      "cell_type": "markdown",
      "source": [
        "6.4 Extract 'hello'"
      ],
      "metadata": {
        "id": "uTaFcnATVyAO",
        "pycharm": {
          "name": "#%% md\n"
        }
      }
    },
    {
      "cell_type": "code",
      "metadata": {
        "collapsed": true,
        "id": "QfaOrfKvcBZI",
        "colab": {
          "base_uri": "https://localhost:8080/"
        },
        "outputId": "226b8b29-b22c-41f5-867b-3f0918f01a93",
        "pycharm": {
          "name": "#%%\n"
        }
      },
      "source": [
        "\n",
        "d = {'k1':[1,2,{'k2':['this is tricky',{'tough':[1,2,['hello']]}]}]}\n",
        "print (d['k1'][2]['k2'][1]['tough'][2][0])"
      ],
      "execution_count": null,
      "outputs": [
        {
          "output_type": "stream",
          "name": "stdout",
          "text": [
            "hello\n"
          ]
        }
      ]
    },
    {
      "cell_type": "markdown",
      "metadata": {
        "id": "Xk84ULBEcBZJ",
        "pycharm": {
          "name": "#%% md\n"
        }
      },
      "source": [
        "6.5 Is sorting a dictionary possible? Why or why not?<br><br>\n",
        "\n",
        "\n",
        "Answer : It is not possible. Dictionaries do not have an order to sort."
      ]
    },
    {
      "cell_type": "markdown",
      "metadata": {
        "id": "iozXKIu9cBZJ",
        "pycharm": {
          "name": "#%% md\n"
        }
      },
      "source": [
        "## Tuples\n",
        "\n",
        "**Q7:**\n",
        "\n",
        "\n",
        "**Points :5**"
      ]
    },
    {
      "cell_type": "markdown",
      "metadata": {
        "id": "eqX8TWt_cBZK",
        "pycharm": {
          "name": "#%% md\n"
        }
      },
      "source": [
        "7.1 What is the major difference between tuples and lists? (double click to respond.)\n",
        "\n",
        "\n",
        "Answer: They are both ordered sequences but tuples are immutable\n"
      ]
    },
    {
      "cell_type": "markdown",
      "metadata": {
        "id": "Plrl6LBMcBZM",
        "pycharm": {
          "name": "#%% md\n"
        }
      },
      "source": [
        "7.2 convert one of the list which you have created into tuple?"
      ]
    },
    {
      "cell_type": "code",
      "source": [
        "ProgrammingL = [\"Fortran\", \"Java\", \"Python\", \"R\", \"Scala\", \"C\", \"C#\", \"C++\"]\n",
        "print(tuple(ProgrammingL))\n"
      ],
      "metadata": {
        "colab": {
          "base_uri": "https://localhost:8080/"
        },
        "id": "iCKu9YkCbQoa",
        "outputId": "a7929ff3-c68f-4166-c5d6-2c200c5caaa6",
        "pycharm": {
          "name": "#%%\n"
        }
      },
      "execution_count": null,
      "outputs": [
        {
          "output_type": "stream",
          "name": "stdout",
          "text": [
            "('Fortran', 'Java', 'Python', 'R', 'Scala', 'C', 'C#', 'C++')\n"
          ]
        }
      ]
    },
    {
      "cell_type": "markdown",
      "metadata": {
        "id": "Cy2trzRNcBZM",
        "pycharm": {
          "name": "#%% md\n"
        }
      },
      "source": [
        "## Sets \n",
        "\n"
      ]
    },
    {
      "cell_type": "markdown",
      "metadata": {
        "id": "NRc8xn7JcBZN",
        "pycharm": {
          "name": "#%% md\n"
        }
      },
      "source": [
        "7.3 What is unique about a set?<br><br>"
      ]
    },
    {
      "cell_type": "markdown",
      "source": [
        "All the values in a set are unique"
      ],
      "metadata": {
        "id": "PZLwyNwqdQwg",
        "pycharm": {
          "name": "#%% md\n"
        }
      }
    },
    {
      "cell_type": "markdown",
      "metadata": {
        "id": "Y2mSJT7bcBZO",
        "pycharm": {
          "name": "#%% md\n"
        }
      },
      "source": [
        "7.4 Use a set to find the unique values of the list below:"
      ]
    },
    {
      "cell_type": "code",
      "metadata": {
        "collapsed": true,
        "id": "y7phszYycBZO",
        "colab": {
          "base_uri": "https://localhost:8080/"
        },
        "outputId": "109f2fb3-191b-4408-912d-2f8e569dc7e1",
        "pycharm": {
          "name": "#%%\n"
        }
      },
      "source": [
        "list5 = [1,2,2,33,4,4,11,22,3,3,2]\n",
        "\n",
        "print(set(list5))\n"
      ],
      "execution_count": null,
      "outputs": [
        {
          "output_type": "stream",
          "name": "stdout",
          "text": [
            "{1, 2, 33, 4, 3, 11, 22}\n"
          ]
        }
      ]
    },
    {
      "cell_type": "markdown",
      "metadata": {
        "id": "ot0FnHF0cBZP",
        "pycharm": {
          "name": "#%% md\n"
        }
      },
      "source": [
        "## Booleans\n"
      ]
    },
    {
      "cell_type": "markdown",
      "metadata": {
        "id": "B02AHvQycBZP",
        "pycharm": {
          "name": "#%% md\n"
        }
      },
      "source": [
        "7.5 What will be the resulting Boolean of the following pieces of code (answer fist then check by typing it in!)"
      ]
    },
    {
      "cell_type": "code",
      "metadata": {
        "collapsed": true,
        "id": "9eMthx1FcBZQ",
        "colab": {
          "base_uri": "https://localhost:8080/"
        },
        "outputId": "affff6cc-3aa9-4e9e-828a-f664550095f3",
        "pycharm": {
          "name": "#%%\n"
        }
      },
      "source": [
        "# What the outcome?\n",
        "2 > 3"
      ],
      "execution_count": null,
      "outputs": [
        {
          "output_type": "execute_result",
          "data": {
            "text/plain": [
              "False"
            ]
          },
          "metadata": {},
          "execution_count": 79
        }
      ]
    },
    {
      "cell_type": "code",
      "source": [
        "False"
      ],
      "metadata": {
        "id": "vie5rMnWTQ5o",
        "pycharm": {
          "name": "#%%\n"
        }
      },
      "execution_count": null,
      "outputs": []
    },
    {
      "cell_type": "markdown",
      "metadata": {
        "id": "XfU24AwxXI7k",
        "pycharm": {
          "name": "#%% md\n"
        }
      },
      "source": [
        "## Question #8\n",
        "Points : 5"
      ]
    },
    {
      "cell_type": "markdown",
      "metadata": {
        "id": "F4BcjT2sV9gN",
        "pycharm": {
          "name": "#%% md\n"
        }
      },
      "source": [
        "\n",
        "One lap around a running track is exactly 0.25 miles. Write the function miles_to_laps() that takes a number of miles as an argument and returns the number of laps. Complete the program to output the number of laps.\n",
        "\n",
        "Output each floating-point value with two digits after the decimal point, which can be achieved as follows:\n",
        "print('{:.2f}'.format(your_value))\n",
        "\n",
        "    Ex: If the input is:1.5\n",
        "    the output is:6.00\n",
        "    Ex: If the input is:2.2\n",
        "    the output is:8.80\n",
        "    Your program must define and call the following function:\n",
        "            def miles_to_laps(user_miles)"
      ]
    },
    {
      "cell_type": "code",
      "metadata": {
        "collapsed": true,
        "id": "LgJtXasi8P8j",
        "pycharm": {
          "name": "#%%\n"
        }
      },
      "source": [
        "# define your function here:\n",
        "def miles_to_laps(num):\n",
        "  return (num*0.25)\n",
        "\n",
        "\n",
        "  "
      ],
      "execution_count": null,
      "outputs": []
    },
    {
      "cell_type": "code",
      "metadata": {
        "id": "tQTA2xzy8P8k",
        "outputId": "6952b2bb-5e03-458a-ac64-2439e4f443cf",
        "colab": {
          "base_uri": "https://localhost:8080/"
        },
        "pycharm": {
          "name": "#%%\n"
        }
      },
      "source": [
        "miles_to_laps(6)\n"
      ],
      "execution_count": null,
      "outputs": [
        {
          "output_type": "execute_result",
          "data": {
            "text/plain": [
              "1.5"
            ]
          },
          "metadata": {},
          "execution_count": 84
        }
      ]
    },
    {
      "cell_type": "markdown",
      "metadata": {
        "id": "u92B0DdfX2oD",
        "pycharm": {
          "name": "#%% md\n"
        }
      },
      "source": [
        "## Question #9\n",
        "Points : 5"
      ]
    },
    {
      "cell_type": "markdown",
      "metadata": {
        "id": "0y7wX2Oa8P8l",
        "pycharm": {
          "name": "#%% md\n"
        }
      },
      "source": [
        "\n",
        "Write a function that checks whether a number is in a given range (inclusive of high and low)"
      ]
    },
    {
      "cell_type": "code",
      "metadata": {
        "collapsed": true,
        "id": "CEM0B2pe8P8m",
        "pycharm": {
          "name": "#%%\n"
        }
      },
      "source": [
        "def ran_check(num,low,high):\n",
        "  for i in range(low,high+1):\n",
        "    if num==i:\n",
        "      print(\"In range\")\n",
        "      break\n",
        "    else:\n",
        "      print(\"Out of range\")"
      ],
      "execution_count": null,
      "outputs": []
    },
    {
      "cell_type": "code",
      "metadata": {
        "id": "m2c1E3We8P8n",
        "outputId": "af6ddaa9-02a2-4d48-d441-ecea1355034f",
        "colab": {
          "base_uri": "https://localhost:8080/"
        },
        "pycharm": {
          "name": "#%%\n"
        }
      },
      "source": [
        "# Check\n",
        "ran_check(5,2,7)"
      ],
      "execution_count": null,
      "outputs": [
        {
          "output_type": "stream",
          "name": "stdout",
          "text": [
            "Out of range\n",
            "Out of range\n",
            "Out of range\n",
            "In range\n"
          ]
        }
      ]
    },
    {
      "cell_type": "markdown",
      "metadata": {
        "id": "ssMOQEqj8P8o",
        "pycharm": {
          "name": "#%% md\n"
        }
      },
      "source": [
        "Write a function that checks whether a number is in a given range return a boolean:"
      ]
    },
    {
      "cell_type": "code",
      "metadata": {
        "collapsed": true,
        "id": "EfoWCKHU8P8o",
        "pycharm": {
          "name": "#%%\n"
        }
      },
      "source": [
        "def ran_bool(num,low,high):\n",
        "    for i in range(low,high+1):\n",
        "        if num==i:\n",
        "            print(True)\n",
        "            break\n",
        "        else :\n",
        "            print(False)"
      ],
      "execution_count": null,
      "outputs": []
    },
    {
      "cell_type": "code",
      "metadata": {
        "id": "9VtNSTkZ8P8p",
        "outputId": "2e776e8b-070d-45aa-f4c8-3d87a3702914",
        "colab": {
          "base_uri": "https://localhost:8080/"
        },
        "pycharm": {
          "name": "#%%\n"
        }
      },
      "source": [
        "ran_bool(3,1,10)"
      ],
      "execution_count": null,
      "outputs": [
        {
          "output_type": "stream",
          "name": "stdout",
          "text": [
            "False\n",
            "False\n",
            "True\n"
          ]
        }
      ]
    },
    {
      "cell_type": "markdown",
      "metadata": {
        "id": "T3c9I8EeYEFj",
        "pycharm": {
          "name": "#%% md\n"
        }
      },
      "source": [
        "## Question #10\n",
        "Points : 5"
      ]
    },
    {
      "cell_type": "markdown",
      "metadata": {
        "id": "slZHyP5l8P8q",
        "pycharm": {
          "name": "#%% md\n"
        }
      },
      "source": [
        "Write a Python function that accepts a string and calculates the number of upper case letters and lower case letters.\n",
        "\n",
        "    Sample String : 'Hello Students, how are you this fine Tuesday?'\n",
        "    Expected Output : \n",
        "    No. of Upper case characters : 3\n",
        "    No. of Lower case Characters : 34\n",
        "\n",
        "Note: You can use string methods **.isupper()** and **.islower()**\n"
      ]
    },
    {
      "cell_type": "code",
      "metadata": {
        "collapsed": true,
        "id": "Ol_OBmm28P8q",
        "pycharm": {
          "name": "#%%\n"
        }
      },
      "source": [
        "s = \"Hello Students, how are you this fine Tuesday?\"\n",
        "\n",
        "def upper_lower(s):\n",
        "  lowercount=0\n",
        "  uppercount=0\n",
        "  for letter in s:\n",
        "    if str.isupper(letter):\n",
        "      uppercount+=1\n",
        "    elif str.islower(letter):\n",
        "      lowercount+=1\n",
        "  print('Count of uppercase is '+str(uppercount))\n",
        "  print('Count of lowercase is '+str(lowercount))\n",
        "\n"
      ],
      "execution_count": null,
      "outputs": []
    },
    {
      "cell_type": "code",
      "metadata": {
        "id": "zWWR_09c8P8r",
        "colab": {
          "base_uri": "https://localhost:8080/"
        },
        "outputId": "129bf244-3a24-493d-83be-69ee80cf3cf5",
        "pycharm": {
          "name": "#%%\n"
        }
      },
      "source": [
        "upper_lower(s)"
      ],
      "execution_count": null,
      "outputs": [
        {
          "output_type": "stream",
          "name": "stdout",
          "text": [
            "Count of uppercase is 3\n",
            "Count of lowercase is 34\n"
          ]
        }
      ]
    },
    {
      "cell_type": "markdown",
      "metadata": {
        "id": "5olwRuwIZqNU",
        "pycharm": {
          "name": "#%% md\n"
        }
      },
      "source": [
        "## Question #11\n",
        "Points : 5"
      ]
    },
    {
      "cell_type": "markdown",
      "metadata": {
        "id": "7zUFQ41G8P8s",
        "pycharm": {
          "name": "#%% md\n"
        }
      },
      "source": [
        "Write a function to check if the given year is a leap year. A leap year is when a year has 366 days: An extra day, February 29th. The requirements for a given year to be a leap year are:\n",
        "\n",
        "    1) The year must be divisible by 4\n",
        "\n",
        "    2) If the year is a century year (1700, 1800, etc.), \n",
        "       the year must be evenly divisible by 400\n",
        "\n",
        "Some example leap years are 1600, 1712, and 2016.\n",
        "\n",
        "Funtion should takes in a year and determines whether that year is a leap year.\n",
        "\n",
        "    Ex: If the input is: 1712\n",
        "        the output is: 1712 is a leap year. "
      ]
    },
    {
      "cell_type": "code",
      "source": [
        "#Define your function here\n",
        "year = int(input(\"Year: \"))\n",
        "if (year):\n",
        "   print(str(year) + \" is a leap!!!\")\n",
        "else:\n",
        "   print(str(year) + \" isn't a leap year\")\n"
      ],
      "metadata": {
        "colab": {
          "base_uri": "https://localhost:8080/"
        },
        "id": "JUFTbysfMnr-",
        "outputId": "3722552d-5e32-449b-c9aa-510354ba4c90",
        "pycharm": {
          "name": "#%%\n"
        }
      },
      "execution_count": null,
      "outputs": [
        {
          "output_type": "stream",
          "name": "stdout",
          "text": [
            "Year: 17404\n",
            "17404 is a leap!!!\n"
          ]
        }
      ]
    },
    {
      "cell_type": "markdown",
      "metadata": {
        "id": "idUf_Py6aGXk",
        "pycharm": {
          "name": "#%% md\n"
        }
      },
      "source": [
        "## Question #12\n",
        "Points : 2.5"
      ]
    },
    {
      "cell_type": "markdown",
      "metadata": {
        "id": "c7snZQu28P8t",
        "pycharm": {
          "name": "#%% md\n"
        }
      },
      "source": [
        "**Write a Python function to multiply all the numbers in a list.**\n",
        "\n",
        "    Sample List : [1, 2, 3, -4]\n",
        "    Expected Output : -24"
      ]
    },
    {
      "cell_type": "code",
      "metadata": {
        "collapsed": true,
        "id": "Xe8YuS6G8P8t",
        "pycharm": {
          "name": "#%%\n"
        }
      },
      "source": [
        "def multiply(numb):\n",
        "    result = 1\n",
        "    for x in numb:\n",
        "         result = result * x\n",
        "    return result"
      ],
      "execution_count": null,
      "outputs": []
    },
    {
      "cell_type": "code",
      "metadata": {
        "id": "dxkO6chD8P8u",
        "outputId": "22d244ee-65b5-435c-b6f4-768ae0a502e3",
        "colab": {
          "base_uri": "https://localhost:8080/"
        },
        "pycharm": {
          "name": "#%%\n"
        }
      },
      "source": [
        "multiply([1,2,3,-4])"
      ],
      "execution_count": null,
      "outputs": [
        {
          "output_type": "execute_result",
          "data": {
            "text/plain": [
              "-24"
            ]
          },
          "metadata": {},
          "execution_count": 70
        }
      ]
    },
    {
      "cell_type": "markdown",
      "metadata": {
        "id": "M9Rfe1OOaOcO",
        "pycharm": {
          "name": "#%% md\n"
        }
      },
      "source": [
        "## Question #13\n",
        "Points : 2.5"
      ]
    },
    {
      "cell_type": "markdown",
      "metadata": {
        "id": "RoyqHLjc8P8u",
        "pycharm": {
          "name": "#%% md\n"
        }
      },
      "source": [
        "**Write a Python function that checks whether a word or phrase is palindrome or not.**\n",
        "\n",
        "Note: A palindrome is word, phrase, or sequence that reads the same backward as forward.\n",
        "\n",
        "    e.g., madam,kayak,racecar\n",
        "\n",
        "    input : madam\n",
        "    output: Given 'madam' is a palidrome."
      ]
    },
    {
      "cell_type": "code",
      "metadata": {
        "collapsed": true,
        "id": "sFvhrDVD8P8v",
        "pycharm": {
          "name": "#%%\n"
        }
      },
      "source": [
        " def palindrome(r):\n",
        "    return r == r[::-1]"
      ],
      "execution_count": null,
      "outputs": []
    },
    {
      "cell_type": "code",
      "metadata": {
        "id": "zdl8a6PV8P8v",
        "outputId": "54df1a63-270f-45c1-8f3a-6a22a5c3b50e",
        "colab": {
          "base_uri": "https://localhost:8080/"
        },
        "pycharm": {
          "name": "#%%\n"
        }
      },
      "source": [
        "palindrome('helleh')"
      ],
      "execution_count": null,
      "outputs": [
        {
          "output_type": "execute_result",
          "data": {
            "text/plain": [
              "True"
            ]
          },
          "metadata": {},
          "execution_count": 80
        }
      ]
    },
    {
      "cell_type": "markdown",
      "metadata": {
        "id": "3a2N6cOkbRO3",
        "pycharm": {
          "name": "#%% md\n"
        }
      },
      "source": [
        "## Question #14\n",
        "Points : 2.5"
      ]
    },
    {
      "cell_type": "markdown",
      "metadata": {
        "id": "ZglZKEBk8P8v",
        "pycharm": {
          "name": "#%% md\n"
        }
      },
      "source": [
        "\n",
        "**Write a Python function to check whether a string is pangram or not. (Assume the string passed in does not have any punctuation)**\n",
        "\n",
        "    Note : Pangrams are words or sentences containing every letter of the alphabet at least once.\n",
        "    For example : \"The quick brown fox jumps over the lazy dog\"\n"
      ]
    },
    {
      "cell_type": "code",
      "metadata": {
        "collapsed": true,
        "id": "yddAUm4q8P8w",
        "pycharm": {
          "name": "#%%\n"
        }
      },
      "source": [
        "import string\n",
        "\n",
        "def ispangram(str):\n",
        "    alpha = \"abcdefghijklmnopqrstuvwxyz\"\n",
        "    for char in alpha:\n",
        "        if char not in str.lower():\n",
        "            return False\n",
        "  \n",
        "    return True\n",
        "    "
      ],
      "execution_count": null,
      "outputs": []
    },
    {
      "cell_type": "code",
      "metadata": {
        "id": "lbJkVFz18P8w",
        "outputId": "e8dec410-c648-4ce1-a17b-5ee01542286d",
        "colab": {
          "base_uri": "https://localhost:8080/"
        },
        "pycharm": {
          "name": "#%%\n"
        }
      },
      "source": [
        "ispangram(\"The quick brown fox over jumps the lazy dog\")"
      ],
      "execution_count": null,
      "outputs": [
        {
          "output_type": "execute_result",
          "data": {
            "text/plain": [
              "True"
            ]
          },
          "metadata": {},
          "execution_count": 120
        }
      ]
    },
    {
      "cell_type": "markdown",
      "metadata": {
        "id": "12Xq7f2-bTpM",
        "pycharm": {
          "name": "#%% md\n"
        }
      },
      "source": [
        "## Question #15\n",
        "Points : 5"
      ]
    },
    {
      "cell_type": "markdown",
      "metadata": {
        "id": "1tQN6Z4SbqkK",
        "pycharm": {
          "name": "#%% md\n"
        }
      },
      "source": [
        "Toll gates have different fees based on the time of day, weekdays/weekends. Write a function that has three parameters: the current hour of time (int), time is morning (boolean) and whether the day is a weekend(boolean). The function returns the correct toll fee (float), based on the chart below.\n",
        "\n",
        "    Weekday Tolls\n",
        "\n",
        "    Before 7:00 am ($1.15)\n",
        "    7:00 am to 9:59 am ($2.95)\n",
        "    10:00 am to 2:59 pm ($1.90)\n",
        "    3:00 pm to 7:59 pm ($3.95)\n",
        "    Starting 8:00 pm ($1.40)\n",
        "    \n",
        "    Weekend Tolls\n",
        "\n",
        "    Before 7:00 am ($1.05)\n",
        "    7:00 am to 7:59 pm ($2.15)\n",
        "    Starting 8:00 pm ($1.10)\n",
        "\n",
        "    input : toll_fee(8, True, False) \n",
        "    Output : $ 2.95\n"
      ]
    },
    {
      "cell_type": "code",
      "metadata": {
        "id": "8wIRatoUc4rN",
        "pycharm": {
          "name": "#%%\n"
        }
      },
      "source": [
        "#define your code here\n",
        "def toll_fee(hour,morning,weekend):\n",
        "  if weekend == False:\n",
        "    if morning == True:\n",
        "      if hour in range(1,7):\n",
        "        print(\"$1.15\")\n",
        "  if weekend == False:\n",
        "    if morning == True:\n",
        "      if hour in range(7,9):\n",
        "        print(\"$2.95\")\n",
        "  if weekend == False:\n",
        "    if morning == True:\n",
        "      if hour in range(10,12):\n",
        "        print(\"$1.90\")\n",
        "  if weekend == False:\n",
        "    if morning == False:\n",
        "      if hour in range(1,2):\n",
        "        print(\"$1.90\")\n",
        "  if weekend == False:\n",
        "    if morning == False:\n",
        "      if hour in range(3,8):\n",
        "        print(\"$3.95\")\n",
        "  if weekend == False:\n",
        "    if morning == False:\n",
        "      if hour > 8:\n",
        "        print(\"$1.40\")\n"
      ],
      "execution_count": null,
      "outputs": []
    },
    {
      "cell_type": "code",
      "metadata": {
        "id": "cVHmOwIYdE0-",
        "colab": {
          "base_uri": "https://localhost:8080/"
        },
        "outputId": "000db2aa-1f2e-4232-f7b2-25a23cb62a16",
        "pycharm": {
          "name": "#%%\n"
        }
      },
      "source": [
        "#call your function\n",
        "\n",
        "fee = toll_fee(8, True, False)\n",
        "print(\"The fee of the hour {} \".format(fee))"
      ],
      "execution_count": null,
      "outputs": [
        {
          "output_type": "stream",
          "name": "stdout",
          "text": [
            "$2.95\n",
            "The fee of the hour None \n"
          ]
        }
      ]
    },
    {
      "cell_type": "markdown",
      "metadata": {
        "id": "QYvtpZXAdaG-",
        "pycharm": {
          "name": "#%% md\n"
        }
      },
      "source": [
        "*If you extend the program to add round trip fee extra credit point 5 will be awarded.*"
      ]
    },
    {
      "cell_type": "markdown",
      "source": [
        "## Question #16\n",
        "Points : 2.5"
      ],
      "metadata": {
        "id": "m05eI0qx0yQ-",
        "pycharm": {
          "name": "#%% md\n"
        }
      }
    },
    {
      "cell_type": "markdown",
      "metadata": {
        "id": "jXU5VenxzlCd",
        "pycharm": {
          "name": "#%% md\n"
        }
      },
      "source": [
        "### Branching  staements\n",
        "if - elif -  else"
      ]
    },
    {
      "cell_type": "markdown",
      "metadata": {
        "id": "EBvh7mBzxy5-",
        "pycharm": {
          "name": "#%% md\n"
        }
      },
      "source": [
        "Given three values a, b, c, check which value is minimum and remove that value from other values. Write an algorithm.\n",
        "\n",
        "        Ex: If the input is:\n",
        "        a = 130\n",
        "        b = 50\n",
        "        c = 130\n",
        "        The output is:\n",
        "        a = 80\n",
        "        b = 0 \n",
        "        c = 80"
      ]
    },
    {
      "cell_type": "code",
      "metadata": {
        "id": "rvkqUdjLz1ra",
        "colab": {
          "base_uri": "https://localhost:8080/"
        },
        "outputId": "76fe531e-ce2f-4c57-86a1-0bd96870ec8a",
        "pycharm": {
          "name": "#%%\n"
        }
      },
      "source": [
        "def difference(a, b, c):\n",
        "    if ((a < b and a < c)) :\n",
        "        print(a-a);\n",
        "        print(b-a);\n",
        "        print(c-a);\n",
        "    if ((b < a and b < c)) :\n",
        "        print(a-b);\n",
        "        print(b-b);\n",
        "        print(c-b);\n",
        "    if ((c < b and c < a)):\n",
        "        print(a-c);\n",
        "        print(b-c);\n",
        "        print(c-c);\n",
        "a = 100\n",
        "b = 90\n",
        "c = 110\n",
        "print(difference(a, b, c))"
      ],
      "execution_count": null,
      "outputs": [
        {
          "output_type": "stream",
          "name": "stdout",
          "text": [
            "10\n",
            "0\n",
            "20\n",
            "None\n"
          ]
        }
      ]
    },
    {
      "cell_type": "markdown",
      "source": [
        "## Question #17\n",
        "Points : 5"
      ],
      "metadata": {
        "id": "ecLWyibk1D-K",
        "pycharm": {
          "name": "#%% md\n"
        }
      }
    },
    {
      "cell_type": "markdown",
      "metadata": {
        "id": "ODYKstn3z2XL",
        "pycharm": {
          "name": "#%% md\n"
        }
      },
      "source": [
        "Write a program that takes in a year and determines whether that year is a leap year.\n",
        "\n",
        "      Ex: If the input is:  1712\n",
        "          the output is: 1712 - leap year\n",
        "\n",
        "          Note : 1) The year must be divisible by 4\n",
        "                  2) If the year is a century year (1700, 1800, etc.), the year must be evenly divisible by 400"
      ]
    },
    {
      "cell_type": "code",
      "metadata": {
        "id": "lpqlkM_R56wf",
        "colab": {
          "base_uri": "https://localhost:8080/"
        },
        "outputId": "90bffd70-a690-4cf0-d02a-6fd8e93fdaf1",
        "pycharm": {
          "name": "#%%\n"
        }
      },
      "source": [
        "year = int(input(\"Year: \"))\n",
        "if (year % 4 == 0) and (year % 400 == 0):\n",
        "    print(\"{0} is a leap year\".format(year))\n",
        "elif (year % 4 ==0) and (year % 100 != 0):\n",
        "    print(\"{0} is a leap year\".format(year))\n",
        "else:\n",
        "    print(\"{0} is not a leap year\".format(year))"
      ],
      "execution_count": null,
      "outputs": [
        {
          "output_type": "stream",
          "name": "stdout",
          "text": [
            "Year: 1812\n",
            "1812 is a leap year\n"
          ]
        }
      ]
    },
    {
      "cell_type": "markdown",
      "source": [
        "## Question #18\n",
        "Points : 5"
      ],
      "metadata": {
        "id": "7gpChkqW1Idz",
        "pycharm": {
          "name": "#%% md\n"
        }
      }
    },
    {
      "cell_type": "markdown",
      "metadata": {
        "id": "BM0zCQmi7pCv",
        "pycharm": {
          "name": "#%% md\n"
        }
      },
      "source": [
        "### Loops"
      ]
    },
    {
      "cell_type": "markdown",
      "metadata": {
        "id": "H4YqppqW-wmf",
        "pycharm": {
          "name": "#%% md\n"
        }
      },
      "source": [
        "Write a program that takes a simple password and makes it stronger by replacing certain characters as per list below and appending \"!\" to the end of the input string.\n",
        "\n",
        "        i becomes 1\n",
        "        a becomes @\n",
        "        m becomes M\n",
        "        B becomes 8\n",
        "        s becomes $\n",
        "        z becomes 2\n",
        "        o becomes 0\n",
        "        \n",
        "        If the input is: mypassword\n",
        "        the output is: Myp@$$w0rd!"
      ]
    },
    {
      "cell_type": "code",
      "metadata": {
        "id": "4qjMTqb7_oss",
        "colab": {
          "base_uri": "https://localhost:8080/"
        },
        "outputId": "35b7e413-085e-4576-c2e9-a217151710b1",
        "pycharm": {
          "name": "#%%\n"
        }
      },
      "source": [
        "Password = str(input())\n",
        "\n",
        "password = ''\n",
        "\n",
        "for character in word:\n",
        "    if(character=='i'): \n",
        "        password += '1' \n",
        "    elif(character=='a'): \n",
        "        password += '@'       \n",
        "    elif(character=='m'):\n",
        "        password += 'M'      \n",
        "    elif(character=='B'): \n",
        "        password += '8'       \n",
        "    elif(character=='s'): \n",
        "        password += '$'  \n",
        "    elif(character=='z'): \n",
        "        password += '2' \n",
        "    elif(character=='o'): \n",
        "        password += '0'      \n",
        "    else:\n",
        "        password += character\n",
        "\n",
        "print(password)"
      ],
      "execution_count": null,
      "outputs": [
        {
          "output_type": "stream",
          "name": "stdout",
          "text": [
            "passwored\n",
            "Myp@$$w0rd\n"
          ]
        }
      ]
    },
    {
      "cell_type": "markdown",
      "source": [
        "## Question #19\n",
        "Points : 2.5"
      ],
      "metadata": {
        "id": "4SI7Buuu1Ku-",
        "pycharm": {
          "name": "#%% md\n"
        }
      }
    },
    {
      "cell_type": "markdown",
      "metadata": {
        "id": "lZIJMR6FAKWH",
        "pycharm": {
          "name": "#%% md\n"
        }
      },
      "source": [
        "Write a program to get 10 multiples of anynumber given.\n",
        "\n",
        "    Example: if Number = 5\n",
        "    Output :5,10,15,20,25,30,35,40,45,50\n",
        "\n",
        "\n",
        "\n"
      ]
    },
    {
      "cell_type": "code",
      "source": [
        "def multiply(num):\n",
        "  return num*10\n",
        "\n",
        "multiply(90)"
      ],
      "metadata": {
        "colab": {
          "base_uri": "https://localhost:8080/"
        },
        "id": "UOoYGOdpZJfZ",
        "outputId": "b925a30a-3bfd-4dcb-c6ac-fafa3f1c4be9",
        "pycharm": {
          "name": "#%%\n"
        }
      },
      "execution_count": null,
      "outputs": [
        {
          "output_type": "execute_result",
          "data": {
            "text/plain": [
              "900"
            ]
          },
          "metadata": {},
          "execution_count": 207
        }
      ]
    }
  ]
}