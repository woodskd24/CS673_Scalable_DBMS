{
  "nbformat": 4,
  "nbformat_minor": 0,
  "metadata": {
    "colab": {
      "provenance": []
    },
    "kernelspec": {
      "name": "python3",
      "display_name": "Python 3"
    },
    "language_info": {
      "name": "python"
    }
  },
  "cells": [
    {
      "cell_type": "markdown",
      "source": [
        "WIC Analysis Extra Credit\n",
        "By: Kelsey Woods\n",
        "\n",
        "![wic.jpg](data:image/jpeg;base64,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)"
      ],
      "metadata": {
        "id": "H3vOjx8FLtJK"
      }
    },
    {
      "cell_type": "markdown",
      "source": [
        "What is WIC? \n",
        "\n",
        "- It is a special supplemental nutrition program for women, infants, and children to make sure that those in these categories are adequately fed!"
      ],
      "metadata": {
        "id": "aZFGMiIPOMDm"
      }
    },
    {
      "cell_type": "markdown",
      "source": [
        "##Preparation"
      ],
      "metadata": {
        "id": "8xDJO7MAL6Op"
      }
    },
    {
      "cell_type": "markdown",
      "source": [
        "Uploading packages"
      ],
      "metadata": {
        "id": "u_6hWY9qNaIq"
      }
    },
    {
      "cell_type": "code",
      "execution_count": 5,
      "metadata": {
        "id": "7qw9C2LvFycG"
      },
      "outputs": [],
      "source": [
        "import pandas as pd"
      ]
    },
    {
      "cell_type": "markdown",
      "source": [
        "Uploading the SQL table created"
      ],
      "metadata": {
        "id": "xMUF1xqBNdn2"
      }
    },
    {
      "cell_type": "code",
      "source": [
        "wic = pd.read_csv('/content/RegionWIC.csv')"
      ],
      "metadata": {
        "id": "zwGNjHWmF_Vy"
      },
      "execution_count": 6,
      "outputs": []
    },
    {
      "cell_type": "markdown",
      "source": [
        "Visualizing the table, again"
      ],
      "metadata": {
        "id": "VNy6s73JNkGj"
      }
    },
    {
      "cell_type": "code",
      "source": [
        "wic.head(10)"
      ],
      "metadata": {
        "colab": {
          "base_uri": "https://localhost:8080/",
          "height": 363
        },
        "id": "JhFpvt7UGXHA",
        "outputId": "16470e5f-01b3-483f-b54c-09417f90792d"
      },
      "execution_count": 7,
      "outputs": [
        {
          "output_type": "execute_result",
          "data": {
            "text/plain": [
              "           state  foodcostavg  participationavg  formulaavg     region\n",
              "0          Texas           30            415664      109499      South\n",
              "1        Wyoming           31              5126        1699       West\n",
              "2           Iowa           31             31294       11249    Midwest\n",
              "3           Ohio           32            105480       62291    Midwest\n",
              "4  New Hampshire           33              7681        2318  Northeast\n",
              "5          Idaho           35             20523        5118       West\n",
              "6     New Mexico           35             24873        8240       West\n",
              "7       Oklahoma           35             41899       17160      South\n",
              "8       Virginia           35             63990       27640      South\n",
              "9         Nevada           36             35971       11519       West"
            ],
            "text/html": [
              "\n",
              "  <div id=\"df-ff154d8b-ff7e-44d9-8d40-2b683dfd82db\">\n",
              "    <div class=\"colab-df-container\">\n",
              "      <div>\n",
              "<style scoped>\n",
              "    .dataframe tbody tr th:only-of-type {\n",
              "        vertical-align: middle;\n",
              "    }\n",
              "\n",
              "    .dataframe tbody tr th {\n",
              "        vertical-align: top;\n",
              "    }\n",
              "\n",
              "    .dataframe thead th {\n",
              "        text-align: right;\n",
              "    }\n",
              "</style>\n",
              "<table border=\"1\" class=\"dataframe\">\n",
              "  <thead>\n",
              "    <tr style=\"text-align: right;\">\n",
              "      <th></th>\n",
              "      <th>state</th>\n",
              "      <th>foodcostavg</th>\n",
              "      <th>participationavg</th>\n",
              "      <th>formulaavg</th>\n",
              "      <th>region</th>\n",
              "    </tr>\n",
              "  </thead>\n",
              "  <tbody>\n",
              "    <tr>\n",
              "      <th>0</th>\n",
              "      <td>Texas</td>\n",
              "      <td>30</td>\n",
              "      <td>415664</td>\n",
              "      <td>109499</td>\n",
              "      <td>South</td>\n",
              "    </tr>\n",
              "    <tr>\n",
              "      <th>1</th>\n",
              "      <td>Wyoming</td>\n",
              "      <td>31</td>\n",
              "      <td>5126</td>\n",
              "      <td>1699</td>\n",
              "      <td>West</td>\n",
              "    </tr>\n",
              "    <tr>\n",
              "      <th>2</th>\n",
              "      <td>Iowa</td>\n",
              "      <td>31</td>\n",
              "      <td>31294</td>\n",
              "      <td>11249</td>\n",
              "      <td>Midwest</td>\n",
              "    </tr>\n",
              "    <tr>\n",
              "      <th>3</th>\n",
              "      <td>Ohio</td>\n",
              "      <td>32</td>\n",
              "      <td>105480</td>\n",
              "      <td>62291</td>\n",
              "      <td>Midwest</td>\n",
              "    </tr>\n",
              "    <tr>\n",
              "      <th>4</th>\n",
              "      <td>New Hampshire</td>\n",
              "      <td>33</td>\n",
              "      <td>7681</td>\n",
              "      <td>2318</td>\n",
              "      <td>Northeast</td>\n",
              "    </tr>\n",
              "    <tr>\n",
              "      <th>5</th>\n",
              "      <td>Idaho</td>\n",
              "      <td>35</td>\n",
              "      <td>20523</td>\n",
              "      <td>5118</td>\n",
              "      <td>West</td>\n",
              "    </tr>\n",
              "    <tr>\n",
              "      <th>6</th>\n",
              "      <td>New Mexico</td>\n",
              "      <td>35</td>\n",
              "      <td>24873</td>\n",
              "      <td>8240</td>\n",
              "      <td>West</td>\n",
              "    </tr>\n",
              "    <tr>\n",
              "      <th>7</th>\n",
              "      <td>Oklahoma</td>\n",
              "      <td>35</td>\n",
              "      <td>41899</td>\n",
              "      <td>17160</td>\n",
              "      <td>South</td>\n",
              "    </tr>\n",
              "    <tr>\n",
              "      <th>8</th>\n",
              "      <td>Virginia</td>\n",
              "      <td>35</td>\n",
              "      <td>63990</td>\n",
              "      <td>27640</td>\n",
              "      <td>South</td>\n",
              "    </tr>\n",
              "    <tr>\n",
              "      <th>9</th>\n",
              "      <td>Nevada</td>\n",
              "      <td>36</td>\n",
              "      <td>35971</td>\n",
              "      <td>11519</td>\n",
              "      <td>West</td>\n",
              "    </tr>\n",
              "  </tbody>\n",
              "</table>\n",
              "</div>\n",
              "      <button class=\"colab-df-convert\" onclick=\"convertToInteractive('df-ff154d8b-ff7e-44d9-8d40-2b683dfd82db')\"\n",
              "              title=\"Convert this dataframe to an interactive table.\"\n",
              "              style=\"display:none;\">\n",
              "        \n",
              "  <svg xmlns=\"http://www.w3.org/2000/svg\" height=\"24px\"viewBox=\"0 0 24 24\"\n",
              "       width=\"24px\">\n",
              "    <path d=\"M0 0h24v24H0V0z\" fill=\"none\"/>\n",
              "    <path d=\"M18.56 5.44l.94 2.06.94-2.06 2.06-.94-2.06-.94-.94-2.06-.94 2.06-2.06.94zm-11 1L8.5 8.5l.94-2.06 2.06-.94-2.06-.94L8.5 2.5l-.94 2.06-2.06.94zm10 10l.94 2.06.94-2.06 2.06-.94-2.06-.94-.94-2.06-.94 2.06-2.06.94z\"/><path d=\"M17.41 7.96l-1.37-1.37c-.4-.4-.92-.59-1.43-.59-.52 0-1.04.2-1.43.59L10.3 9.45l-7.72 7.72c-.78.78-.78 2.05 0 2.83L4 21.41c.39.39.9.59 1.41.59.51 0 1.02-.2 1.41-.59l7.78-7.78 2.81-2.81c.8-.78.8-2.07 0-2.86zM5.41 20L4 18.59l7.72-7.72 1.47 1.35L5.41 20z\"/>\n",
              "  </svg>\n",
              "      </button>\n",
              "      \n",
              "  <style>\n",
              "    .colab-df-container {\n",
              "      display:flex;\n",
              "      flex-wrap:wrap;\n",
              "      gap: 12px;\n",
              "    }\n",
              "\n",
              "    .colab-df-convert {\n",
              "      background-color: #E8F0FE;\n",
              "      border: none;\n",
              "      border-radius: 50%;\n",
              "      cursor: pointer;\n",
              "      display: none;\n",
              "      fill: #1967D2;\n",
              "      height: 32px;\n",
              "      padding: 0 0 0 0;\n",
              "      width: 32px;\n",
              "    }\n",
              "\n",
              "    .colab-df-convert:hover {\n",
              "      background-color: #E2EBFA;\n",
              "      box-shadow: 0px 1px 2px rgba(60, 64, 67, 0.3), 0px 1px 3px 1px rgba(60, 64, 67, 0.15);\n",
              "      fill: #174EA6;\n",
              "    }\n",
              "\n",
              "    [theme=dark] .colab-df-convert {\n",
              "      background-color: #3B4455;\n",
              "      fill: #D2E3FC;\n",
              "    }\n",
              "\n",
              "    [theme=dark] .colab-df-convert:hover {\n",
              "      background-color: #434B5C;\n",
              "      box-shadow: 0px 1px 3px 1px rgba(0, 0, 0, 0.15);\n",
              "      filter: drop-shadow(0px 1px 2px rgba(0, 0, 0, 0.3));\n",
              "      fill: #FFFFFF;\n",
              "    }\n",
              "  </style>\n",
              "\n",
              "      <script>\n",
              "        const buttonEl =\n",
              "          document.querySelector('#df-ff154d8b-ff7e-44d9-8d40-2b683dfd82db button.colab-df-convert');\n",
              "        buttonEl.style.display =\n",
              "          google.colab.kernel.accessAllowed ? 'block' : 'none';\n",
              "\n",
              "        async function convertToInteractive(key) {\n",
              "          const element = document.querySelector('#df-ff154d8b-ff7e-44d9-8d40-2b683dfd82db');\n",
              "          const dataTable =\n",
              "            await google.colab.kernel.invokeFunction('convertToInteractive',\n",
              "                                                     [key], {});\n",
              "          if (!dataTable) return;\n",
              "\n",
              "          const docLinkHtml = 'Like what you see? Visit the ' +\n",
              "            '<a target=\"_blank\" href=https://colab.research.google.com/notebooks/data_table.ipynb>data table notebook</a>'\n",
              "            + ' to learn more about interactive tables.';\n",
              "          element.innerHTML = '';\n",
              "          dataTable['output_type'] = 'display_data';\n",
              "          await google.colab.output.renderOutput(dataTable, element);\n",
              "          const docLink = document.createElement('div');\n",
              "          docLink.innerHTML = docLinkHtml;\n",
              "          element.appendChild(docLink);\n",
              "        }\n",
              "      </script>\n",
              "    </div>\n",
              "  </div>\n",
              "  "
            ]
          },
          "metadata": {},
          "execution_count": 7
        }
      ]
    },
    {
      "cell_type": "markdown",
      "source": [
        "Uploading visualization packages"
      ],
      "metadata": {
        "id": "pLoWl5HFNofl"
      }
    },
    {
      "cell_type": "code",
      "source": [
        "import seaborn as sns\n",
        "import matplotlib.pyplot as plt"
      ],
      "metadata": {
        "id": "4sxAUf_vGcr0"
      },
      "execution_count": 19,
      "outputs": []
    },
    {
      "cell_type": "markdown",
      "source": [
        "Visualizing the average food cost by region for the United States WIC program"
      ],
      "metadata": {
        "id": "6TaYSgMWNsrR"
      }
    },
    {
      "cell_type": "code",
      "source": [
        "sns.barplot(x = 'region',\n",
        "            y = 'foodcostavg',\n",
        "            data = wic)"
      ],
      "metadata": {
        "colab": {
          "base_uri": "https://localhost:8080/",
          "height": 466
        },
        "id": "-XYyZzU4JAqh",
        "outputId": "73e879ab-773b-4299-f0d8-3931db68c111"
      },
      "execution_count": 10,
      "outputs": [
        {
          "output_type": "execute_result",
          "data": {
            "text/plain": [
              "<Axes: xlabel='region', ylabel='foodcostavg'>"
            ]
          },
          "metadata": {},
          "execution_count": 10
        },
        {
          "output_type": "display_data",
          "data": {
            "text/plain": [
              "<Figure size 640x480 with 1 Axes>"
            ],
            "image/png": "[encoded data removed]"
          },
          "metadata": {}
        }
      ]
    },
    {
      "cell_type": "markdown",
      "source": [
        "Visualizing the average food cost for children by region for the United States WIC program"
      ],
      "metadata": {
        "id": "ls1qbfB2N2qh"
      }
    },
    {
      "cell_type": "code",
      "source": [
        "sns.barplot(x = 'region',\n",
        "            y = 'participationavg',\n",
        "            data = wic)"
      ],
      "metadata": {
        "colab": {
          "base_uri": "https://localhost:8080/",
          "height": 466
        },
        "id": "ib6JQwhYJQkw",
        "outputId": "b06f3be5-587e-422e-e377-1a4db6574397"
      },
      "execution_count": 11,
      "outputs": [
        {
          "output_type": "execute_result",
          "data": {
            "text/plain": [
              "<Axes: xlabel='region', ylabel='participationavg'>"
            ]
          },
          "metadata": {},
          "execution_count": 11
        },
        {
          "output_type": "display_data",
          "data": {
            "text/plain": [
              "<Figure size 640x480 with 1 Axes>"
            ],
            "image/png": "[encoded data removed]"
          },
          "metadata": {}
        }
      ]
    },
    {
      "cell_type": "markdown",
      "source": [
        "Visualizing the average formula cost by region for the United States WIC program for those that are entirely formula fed"
      ],
      "metadata": {
        "id": "ftal4NhBN7_7"
      }
    },
    {
      "cell_type": "code",
      "source": [
        "sns.barplot(x = 'region',\n",
        "            y = 'formulaavg',\n",
        "            data = wic)"
      ],
      "metadata": {
        "colab": {
          "base_uri": "https://localhost:8080/",
          "height": 466
        },
        "id": "Q6gglzmqJUVs",
        "outputId": "eefb2319-863c-4dfb-c86a-907b018703ee"
      },
      "execution_count": 12,
      "outputs": [
        {
          "output_type": "execute_result",
          "data": {
            "text/plain": [
              "<Axes: xlabel='region', ylabel='formulaavg'>"
            ]
          },
          "metadata": {},
          "execution_count": 12
        },
        {
          "output_type": "display_data",
          "data": {
            "text/plain": [
              "<Figure size 640x480 with 1 Axes>"
            ],
            "image/png": "[encoded data removed]"
          },
          "metadata": {}
        }
      ]
    },
    {
      "cell_type": "markdown",
      "source": [
        "Grouping by the region to view all categories"
      ],
      "metadata": {
        "id": "kyQnWSj1OCQJ"
      }
    },
    {
      "cell_type": "code",
      "source": [
        "df = wic.groupby(['region']).sum()\n",
        "df"
      ],
      "metadata": {
        "colab": {
          "base_uri": "https://localhost:8080/",
          "height": 261
        },
        "id": "itqB9qjuJXPS",
        "outputId": "475834a5-1e74-48c4-df47-ba6b44ffc78e"
      },
      "execution_count": 23,
      "outputs": [
        {
          "output_type": "stream",
          "name": "stderr",
          "text": [
            "<ipython-input-23-275e815d9197>:1: FutureWarning: The default value of numeric_only in DataFrameGroupBy.sum is deprecated. In a future version, numeric_only will default to False. Either specify numeric_only or select only columns which should be valid for the function.\n",
            "  df = wic.groupby(['region']).sum()\n"
          ]
        },
        {
          "output_type": "execute_result",
          "data": {
            "text/plain": [
              "           foodcostavg  participationavg  formulaavg\n",
              "region                                              \n",
              "Midwest            481            688178      281179\n",
              "Northeast          355            551701      158731\n",
              "South              710           1494345      537877\n",
              "West               534           1081013      263828"
            ],
            "text/html": [
              "\n",
              "  <div id=\"df-a73ac517-4855-4b2f-87c8-2e5234e7fcb8\">\n",
              "    <div class=\"colab-df-container\">\n",
              "      <div>\n",
              "<style scoped>\n",
              "    .dataframe tbody tr th:only-of-type {\n",
              "        vertical-align: middle;\n",
              "    }\n",
              "\n",
              "    .dataframe tbody tr th {\n",
              "        vertical-align: top;\n",
              "    }\n",
              "\n",
              "    .dataframe thead th {\n",
              "        text-align: right;\n",
              "    }\n",
              "</style>\n",
              "<table border=\"1\" class=\"dataframe\">\n",
              "  <thead>\n",
              "    <tr style=\"text-align: right;\">\n",
              "      <th></th>\n",
              "      <th>foodcostavg</th>\n",
              "      <th>participationavg</th>\n",
              "      <th>formulaavg</th>\n",
              "    </tr>\n",
              "    <tr>\n",
              "      <th>region</th>\n",
              "      <th></th>\n",
              "      <th></th>\n",
              "      <th></th>\n",
              "    </tr>\n",
              "  </thead>\n",
              "  <tbody>\n",
              "    <tr>\n",
              "      <th>Midwest</th>\n",
              "      <td>481</td>\n",
              "      <td>688178</td>\n",
              "      <td>281179</td>\n",
              "    </tr>\n",
              "    <tr>\n",
              "      <th>Northeast</th>\n",
              "      <td>355</td>\n",
              "      <td>551701</td>\n",
              "      <td>158731</td>\n",
              "    </tr>\n",
              "    <tr>\n",
              "      <th>South</th>\n",
              "      <td>710</td>\n",
              "      <td>1494345</td>\n",
              "      <td>537877</td>\n",
              "    </tr>\n",
              "    <tr>\n",
              "      <th>West</th>\n",
              "      <td>534</td>\n",
              "      <td>1081013</td>\n",
              "      <td>263828</td>\n",
              "    </tr>\n",
              "  </tbody>\n",
              "</table>\n",
              "</div>\n",
              "      <button class=\"colab-df-convert\" onclick=\"convertToInteractive('df-a73ac517-4855-4b2f-87c8-2e5234e7fcb8')\"\n",
              "              title=\"Convert this dataframe to an interactive table.\"\n",
              "              style=\"display:none;\">\n",
              "        \n",
              "  <svg xmlns=\"http://www.w3.org/2000/svg\" height=\"24px\"viewBox=\"0 0 24 24\"\n",
              "       width=\"24px\">\n",
              "    <path d=\"M0 0h24v24H0V0z\" fill=\"none\"/>\n",
              "    <path d=\"M18.56 5.44l.94 2.06.94-2.06 2.06-.94-2.06-.94-.94-2.06-.94 2.06-2.06.94zm-11 1L8.5 8.5l.94-2.06 2.06-.94-2.06-.94L8.5 2.5l-.94 2.06-2.06.94zm10 10l.94 2.06.94-2.06 2.06-.94-2.06-.94-.94-2.06-.94 2.06-2.06.94z\"/><path d=\"M17.41 7.96l-1.37-1.37c-.4-.4-.92-.59-1.43-.59-.52 0-1.04.2-1.43.59L10.3 9.45l-7.72 7.72c-.78.78-.78 2.05 0 2.83L4 21.41c.39.39.9.59 1.41.59.51 0 1.02-.2 1.41-.59l7.78-7.78 2.81-2.81c.8-.78.8-2.07 0-2.86zM5.41 20L4 18.59l7.72-7.72 1.47 1.35L5.41 20z\"/>\n",
              "  </svg>\n",
              "      </button>\n",
              "      \n",
              "  <style>\n",
              "    .colab-df-container {\n",
              "      display:flex;\n",
              "      flex-wrap:wrap;\n",
              "      gap: 12px;\n",
              "    }\n",
              "\n",
              "    .colab-df-convert {\n",
              "      background-color: #E8F0FE;\n",
              "      border: none;\n",
              "      border-radius: 50%;\n",
              "      cursor: pointer;\n",
              "      display: none;\n",
              "      fill: #1967D2;\n",
              "      height: 32px;\n",
              "      padding: 0 0 0 0;\n",
              "      width: 32px;\n",
              "    }\n",
              "\n",
              "    .colab-df-convert:hover {\n",
              "      background-color: #E2EBFA;\n",
              "      box-shadow: 0px 1px 2px rgba(60, 64, 67, 0.3), 0px 1px 3px 1px rgba(60, 64, 67, 0.15);\n",
              "      fill: #174EA6;\n",
              "    }\n",
              "\n",
              "    [theme=dark] .colab-df-convert {\n",
              "      background-color: #3B4455;\n",
              "      fill: #D2E3FC;\n",
              "    }\n",
              "\n",
              "    [theme=dark] .colab-df-convert:hover {\n",
              "      background-color: #434B5C;\n",
              "      box-shadow: 0px 1px 3px 1px rgba(0, 0, 0, 0.15);\n",
              "      filter: drop-shadow(0px 1px 2px rgba(0, 0, 0, 0.3));\n",
              "      fill: #FFFFFF;\n",
              "    }\n",
              "  </style>\n",
              "\n",
              "      <script>\n",
              "        const buttonEl =\n",
              "          document.querySelector('#df-a73ac517-4855-4b2f-87c8-2e5234e7fcb8 button.colab-df-convert');\n",
              "        buttonEl.style.display =\n",
              "          google.colab.kernel.accessAllowed ? 'block' : 'none';\n",
              "\n",
              "        async function convertToInteractive(key) {\n",
              "          const element = document.querySelector('#df-a73ac517-4855-4b2f-87c8-2e5234e7fcb8');\n",
              "          const dataTable =\n",
              "            await google.colab.kernel.invokeFunction('convertToInteractive',\n",
              "                                                     [key], {});\n",
              "          if (!dataTable) return;\n",
              "\n",
              "          const docLinkHtml = 'Like what you see? Visit the ' +\n",
              "            '<a target=\"_blank\" href=https://colab.research.google.com/notebooks/data_table.ipynb>data table notebook</a>'\n",
              "            + ' to learn more about interactive tables.';\n",
              "          element.innerHTML = '';\n",
              "          dataTable['output_type'] = 'display_data';\n",
              "          await google.colab.output.renderOutput(dataTable, element);\n",
              "          const docLink = document.createElement('div');\n",
              "          docLink.innerHTML = docLinkHtml;\n",
              "          element.appendChild(docLink);\n",
              "        }\n",
              "      </script>\n",
              "    </div>\n",
              "  </div>\n",
              "  "
            ]
          },
          "metadata": {},
          "execution_count": 23
        }
      ]
    },
    {
      "cell_type": "markdown",
      "source": [
        "It appears that the average food cost per family is much higher in the South, followed by the West in all categories when combined. "
      ],
      "metadata": {
        "id": "BusThhlMOf7w"
      }
    }
  ]
}